{
 "cells": [
  {
   "cell_type": "code",
   "execution_count": 4,
   "id": "7c6ea63f-28ac-4da9-b762-9605be7346ed",
   "metadata": {},
   "outputs": [],
   "source": [
    "# telco_churn_pipeline.py\n",
    "import numpy as np\n",
    "import pandas as pd\n",
    "import matplotlib.pyplot as plt\n",
    "import seaborn as sns\n",
    "\n",
    "from sklearn.preprocessing import LabelEncoder\n",
    "from sklearn.model_selection import train_test_split, cross_val_score\n",
    "from sklearn.ensemble import RandomForestClassifier\n",
    "from sklearn.tree import DecisionTreeClassifier\n",
    "from xgboost import XGBClassifier\n",
    "from sklearn.metrics import accuracy_score, confusion_matrix, classification_report\n",
    "\n",
    "from imblearn.over_sampling import SMOTE\n",
    "\n",
    "import pickle"
   ]
  },
  {
   "cell_type": "code",
   "execution_count": 5,
   "id": "7ce26a9a-329f-4378-b333-8ccd606280ad",
   "metadata": {},
   "outputs": [],
   "source": [
    "# 1. Load and clean dataset\n",
    "df = pd.read_csv(\"WA_Fn-UseC_-Telco-Customer-Churn.csv\")"
   ]
  },
  {
   "cell_type": "code",
   "execution_count": 6,
   "id": "3ee3c3e2-1f70-41d4-9a9a-027952819204",
   "metadata": {},
   "outputs": [],
   "source": [
    "# Drop customerID since it is not useful for modeling\n",
    "df.drop(columns=[\"customerID\"], inplace=True)\n",
    "\n",
    "# Replace blank spaces in TotalCharges with NaN and convert to float\n",
    "df[\"TotalCharges\"] = df[\"TotalCharges\"].replace(\" \", np.nan).astype(float)\n",
    "\n",
    "# Impute missing TotalCharges with the median value\n",
    "df[\"TotalCharges\"] = df[\"TotalCharges\"].fillna(df[\"TotalCharges\"].median())\n",
    "\n",
    "# Convert SeniorCitizen to string for consistent encoding\n",
    "df[\"SeniorCitizen\"] = df[\"SeniorCitizen\"].astype(str)\n",
    "\n",
    "# 2. Target encoding\n",
    "df[\"Churn\"] = df[\"Churn\"].map({\"Yes\":1, \"No\":0})"
   ]
  },
  {
   "cell_type": "code",
   "execution_count": 7,
   "id": "9116baab-fd4d-42c8-98c6-82d44a3e9b81",
   "metadata": {},
   "outputs": [],
   "source": [
    "# 3. Label encoding for categorical variables\n",
    "categorical_cols = df.select_dtypes(include='object').columns.tolist()\n",
    "\n",
    "encoders = {}\n",
    "for col in categorical_cols:\n",
    "    le = LabelEncoder()\n",
    "    df[col] = le.fit_transform(df[col])\n",
    "    encoders[col] = le"
   ]
  },
  {
   "cell_type": "code",
   "execution_count": 8,
   "id": "4873e2f3-adc6-46f6-8078-aae6838bee23",
   "metadata": {},
   "outputs": [],
   "source": [
    "# Save encoders for inference\n",
    "with open(\"encoders.pkl\", \"wb\") as f_enc:\n",
    "    pickle.dump(encoders, f_enc)"
   ]
  },
  {
   "cell_type": "code",
   "execution_count": 9,
   "id": "589ee2bf-d99a-418a-8bb7-70f0dae8a989",
   "metadata": {},
   "outputs": [],
   "source": [
    "# 4. Prepare data for modeling\n",
    "X = df.drop(columns=[\"Churn\"])\n",
    "y = df[\"Churn\"]\n",
    "\n",
    "# Stratified split to maintain class balance\n",
    "X_train, X_test, y_train, y_test = train_test_split(\n",
    "    X, y, stratify=y, test_size=0.2, random_state=42\n",
    ")"
   ]
  },
  {
   "cell_type": "code",
   "execution_count": 10,
   "id": "825881c6-7feb-45bf-bd9b-8a5d705ecee7",
   "metadata": {},
   "outputs": [],
   "source": [
    "# 5. Use SMOTE to balance classes in training data only\n",
    "smote = SMOTE(random_state=42)\n",
    "X_train_smote, y_train_smote = smote.fit_resample(X_train, y_train)"
   ]
  },
  {
   "cell_type": "code",
   "execution_count": null,
   "id": "0ef1d554-4358-442c-88dd-5be9e78941a9",
   "metadata": {},
   "outputs": [
    {
     "name": "stdout",
     "output_type": "stream",
     "text": [
      "Cross-validation accuracy scores:\n",
      "Decision Tree: 0.7888 ± 0.0607\n"
     ]
    }
   ],
   "source": [
    "# 6. Define models to compare\n",
    "models = {\n",
    "    \"Decision Tree\": DecisionTreeClassifier(random_state=42),\n",
    "    \"Random Forest\": RandomForestClassifier(random_state=42),\n",
    "    \"XGBoost\": XGBClassifier(random_state=42, eval_metric='logloss')  # removed use_label_encoder\n",
    "}\n",
    "\n",
    "print(\"Cross-validation accuracy scores:\")\n",
    "for name, model in models.items():\n",
    "    scores = cross_val_score(model, X_train_smote, y_train_smote, cv=5, scoring=\"accuracy\")\n",
    "    print(f\"{name}: {scores.mean():.4f} ± {scores.std():.4f}\")"
   ]
  },
  {
   "cell_type": "code",
   "execution_count": null,
   "id": "685dc203-2744-41fb-beb5-03cf85f86618",
   "metadata": {},
   "outputs": [],
   "source": [
    "# 7. Train final selected model (Random Forest here)\n",
    "final_model = RandomForestClassifier(random_state=42)\n",
    "final_model.fit(X_train_smote, y_train_smote)"
   ]
  },
  {
   "cell_type": "code",
   "execution_count": null,
   "id": "df3a344f-40b7-4c1a-b374-be232399b37b",
   "metadata": {},
   "outputs": [],
   "source": [
    "# 8. Evaluate on the test set\n",
    "y_pred = final_model.predict(X_test)\n",
    "print(\"\\nTest set performance:\")\n",
    "print(f\"Accuracy: {accuracy_score(y_test, y_pred):.4f}\")\n",
    "print(\"Confusion matrix:\")\n",
    "print(confusion_matrix(y_test, y_pred))\n",
    "print(\"Classification report:\")\n",
    "print(classification_report(y_test, y_pred))"
   ]
  },
  {
   "cell_type": "code",
   "execution_count": null,
   "id": "69998571-8671-4391-a78a-1ee1bd5e3d4d",
   "metadata": {},
   "outputs": [],
   "source": [
    "# 9. Save the model and feature names for inference\n",
    "model_package = {\n",
    "    \"model\": final_model,\n",
    "    \"feature_names\": X.columns.tolist()\n",
    "}\n",
    "with open(\"customer_churn_model.pkl\", \"wb\") as f_mod:\n",
    "    pickle.dump(model_package, f_mod)"
   ]
  },
  {
   "cell_type": "code",
   "execution_count": null,
   "id": "64ee32aa-5afd-4472-978a-15a9c703685e",
   "metadata": {},
   "outputs": [],
   "source": [
    "# 10. Function to prepare inference input (with encoding and fallback for unseen categories)\n",
    "def prepare_input(input_dict, encoders, feature_order):\n",
    "    df_input = pd.DataFrame([input_dict])\n",
    "\n",
    "    # Add missing columns if any (use 0 as default for numeric)\n",
    "    for col in feature_order:\n",
    "        if col not in df_input.columns:\n",
    "            df_input[col] = 0\n",
    "\n",
    "    # Reorder columns to model's feature order\n",
    "    df_input = df_input[feature_order].copy()\n",
    "\n",
    "    # Encode categorical variables with fallback for unseen categories\n",
    "    for col, encoder in encoders.items():\n",
    "        if col in df_input.columns:\n",
    "            mask_unseen = ~df_input[col].isin(encoder.classes_)\n",
    "            if mask_unseen.any():\n",
    "                print(f\"Warning: Unseen categories in column '{col}': {df_input.loc[mask_unseen, col].values}. Encoding fallback applied.\")\n",
    "                mode_class = encoder.classes_[0]\n",
    "                df_input.loc[mask_unseen, col] = mode_class\n",
    "            df_input[col] = encoder.transform(df_input[col])\n",
    "\n",
    "    return df_input\n",
    "\n",
    "# Example inference usage:\n",
    "if __name__ == \"__main__\":\n",
    "    # Load model and encoders\n",
    "    with open(\"customer_churn_model.pkl\", \"rb\") as f:\n",
    "        model_data = pickle.load(f)\n",
    "    with open(\"encoders.pkl\", \"rb\") as f:\n",
    "        encoders = pickle.load(f)\n",
    "\n",
    "    loaded_model = model_data[\"model\"]\n",
    "    feature_names = model_data[\"feature_names\"]\n",
    "\n",
    "    example_input = {\n",
    "        'gender': 'Female',\n",
    "        'SeniorCitizen': '0',\n",
    "        'Partner': 'Yes',\n",
    "        'Dependents': 'No',\n",
    "        'tenure': 1,\n",
    "        'PhoneService': 'No',\n",
    "        'MultipleLines': 'No phone service',\n",
    "        'InternetService': 'DSL',\n",
    "        'OnlineSecurity': 'No',\n",
    "        'OnlineBackup': 'Yes',\n",
    "        'DeviceProtection': 'No',\n",
    "        'TechSupport': 'No',\n",
    "        'StreamingTV': 'No',\n",
    "        'StreamingMovies': 'No',\n",
    "        'Contract': 'Month-to-month',\n",
    "        'PaperlessBilling': 'Yes',\n",
    "        'PaymentMethod': 'Electronic check',\n",
    "        'MonthlyCharges': 29.85,\n",
    "        'TotalCharges': 29.85\n",
    "    }\n",
    "\n",
    "    input_df = prepare_input(example_input, encoders, feature_names)\n",
    "\n",
    "    prediction = loaded_model.predict(input_df)\n",
    "    prediction_proba = loaded_model.predict_proba(input_df)\n",
    "\n",
    "    print(f\"Prediction: {'Churn' if prediction[0] == 1 else 'No Churn'}\")\n",
    "    print(f\"Probabilities: {prediction_proba}\")"
   ]
  },
  {
   "cell_type": "code",
   "execution_count": null,
   "id": "5213a754-485b-4781-b8d8-d95ec6f5c192",
   "metadata": {},
   "outputs": [],
   "source": []
  }
 ],
 "metadata": {
  "kernelspec": {
   "display_name": "Python 3 (ipykernel)",
   "language": "python",
   "name": "python3"
  },
  "language_info": {
   "codemirror_mode": {
    "name": "ipython",
    "version": 3
   },
   "file_extension": ".py",
   "mimetype": "text/x-python",
   "name": "python",
   "nbconvert_exporter": "python",
   "pygments_lexer": "ipython3",
   "version": "3.12.4"
  }
 },
 "nbformat": 4,
 "nbformat_minor": 5
}
